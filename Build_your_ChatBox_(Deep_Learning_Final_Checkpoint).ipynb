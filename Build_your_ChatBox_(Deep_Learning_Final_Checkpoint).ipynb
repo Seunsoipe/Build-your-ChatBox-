{
  "nbformat": 4,
  "nbformat_minor": 0,
  "metadata": {
    "kernelspec": {
      "name": "python3",
      "display_name": "Python 3"
    },
    "colab": {
      "provenance": [],
      "include_colab_link": true
    },
    "accelerator": "GPU"
  },
  "cells": [
    {
      "cell_type": "markdown",
      "metadata": {
        "id": "view-in-github",
        "colab_type": "text"
      },
      "source": [
        "<a href=\"https://colab.research.google.com/github/Seunsoipe/Build-your-ChatBox-/blob/main/Build_your_ChatBox_(Deep_Learning_Final_Checkpoint).ipynb\" target=\"_parent\"><img src=\"https://colab.research.google.com/assets/colab-badge.svg\" alt=\"Open In Colab\"/></a>"
      ]
    },
    {
      "cell_type": "markdown",
      "metadata": {
        "id": "V2a6LEM_KvWR"
      },
      "source": [
        "# Building your own Chatbot from Scratch in Python (using NLTK)\n",
        "\n",
        "![Alt text](https://cdn-images-1.medium.com/max/800/1*pPcVfZ7i-gLMabUol3zezA.gif)\n",
        "\n",
        "History of chatbots dates back to 1966 when a computer program called ELIZA was invented by Weizenbaum. It imitated the language of a psychotherapist from only 200 lines of code. You can still converse with it here: [Eliza](http://psych.fullerton.edu/mbirnbaum/psych101/Eliza.htm?utm_source=ubisend.com&utm_medium=blog-link&utm_campaign=ubisend). \n",
        "\n",
        "On similar lines let's create a very basic chatbot utlising the Python's NLTK library.It's a very simple bot with hardly any cognitive skills,but still a good way to get into NLP and get to know about chatbots.\n",
        "\n",
        "For detailed analysis, please see the accompanying blog titled:**[Building a Simple Chatbot in Python (using NLTK](https://medium.com/analytics-vidhya/building-a-simple-chatbot-in-python-using-nltk-7c8c8215ac6e)\n"
      ]
    },
    {
      "cell_type": "markdown",
      "metadata": {
        "id": "Nso6M6g0KvWU"
      },
      "source": [
        "## NLP\n",
        "NLP is a way for computers to analyze, understand, and derive meaning from human language in a smart and useful way. By utilizing NLP, developers can organize and structure knowledge to perform tasks such as automatic summarization, translation, named entity recognition, relationship extraction, sentiment analysis, speech recognition, and topic segmentation."
      ]
    },
    {
      "cell_type": "markdown",
      "metadata": {
        "id": "CPCNIpdJKvWX"
      },
      "source": [
        "## Import necessary libraries"
      ]
    },
    {
      "cell_type": "code",
      "metadata": {
        "id": "ytKb4HVAKvWZ"
      },
      "source": [
        "import io\n",
        "import random\n",
        "import string # to process standard python strings\n",
        "import warnings\n",
        "import numpy as np\n",
        "from sklearn.feature_extraction.text import TfidfVectorizer\n",
        "from sklearn.metrics.pairwise import cosine_similarity\n",
        "import warnings\n",
        "warnings.filterwarnings('ignore')"
      ],
      "execution_count": null,
      "outputs": []
    },
    {
      "cell_type": "markdown",
      "metadata": {
        "id": "Qa8m-fe8KvWr"
      },
      "source": [
        "## Downloading and installing NLTK\n",
        "NLTK(Natural Language Toolkit) is a leading platform for building Python programs to work with human language data. It provides easy-to-use interfaces to over 50 corpora and lexical resources such as WordNet, along with a suite of text processing libraries for classification, tokenization, stemming, tagging, parsing, and semantic reasoning, wrappers for industrial-strength NLP libraries.\n",
        "\n",
        "[Natural Language Processing with Python](http://www.nltk.org/book/) provides a practical introduction to programming for language processing.\n",
        "\n",
        "For platform-specific instructions, read [here](https://www.nltk.org/install.html)\n",
        "\n"
      ]
    },
    {
      "cell_type": "code",
      "metadata": {
        "id": "JRjPlOnTKvWt",
        "colab": {
          "base_uri": "https://localhost:8080/"
        },
        "outputId": "d8ea1303-24f6-45a2-f5af-feb5042caa3e"
      },
      "source": [
        "pip install nltk"
      ],
      "execution_count": null,
      "outputs": [
        {
          "output_type": "stream",
          "name": "stdout",
          "text": [
            "Looking in indexes: https://pypi.org/simple, https://us-python.pkg.dev/colab-wheels/public/simple/\n",
            "Requirement already satisfied: nltk in /usr/local/lib/python3.8/dist-packages (3.7)\n",
            "Requirement already satisfied: joblib in /usr/local/lib/python3.8/dist-packages (from nltk) (1.2.0)\n",
            "Requirement already satisfied: regex>=2021.8.3 in /usr/local/lib/python3.8/dist-packages (from nltk) (2022.6.2)\n",
            "Requirement already satisfied: click in /usr/local/lib/python3.8/dist-packages (from nltk) (7.1.2)\n",
            "Requirement already satisfied: tqdm in /usr/local/lib/python3.8/dist-packages (from nltk) (4.64.1)\n"
          ]
        }
      ]
    },
    {
      "cell_type": "markdown",
      "metadata": {
        "id": "IsQ8TnrKKvW6"
      },
      "source": [
        "### Installing NLTK Packages\n",
        "\n",
        "\n"
      ]
    },
    {
      "cell_type": "code",
      "metadata": {
        "id": "ikyB47wnKvW8",
        "colab": {
          "base_uri": "https://localhost:8080/"
        },
        "outputId": "f513c5dc-07ff-4305-9147-693590f7a5a2"
      },
      "source": [
        "import nltk\n",
        "from nltk.stem import WordNetLemmatizer\n",
        "nltk.download('popular', quiet=True) # for downloading packages\n",
        "#nltk.download('punkt') # first-time use only\n",
        "#nltk.download('wordnet') # first-time use only"
      ],
      "execution_count": null,
      "outputs": [
        {
          "output_type": "execute_result",
          "data": {
            "text/plain": [
              "True"
            ]
          },
          "metadata": {},
          "execution_count": 3
        }
      ]
    },
    {
      "cell_type": "markdown",
      "metadata": {
        "id": "EUFC9npYKvXF"
      },
      "source": [
        "## Reading in the corpus\n",
        "\n",
        "For our example,we will be using the Wikipedia page for chatbots as our corpus. Copy the contents from the page and place it in a text file named ‘chatbot.txt’. However, you can use any corpus of your choice."
      ]
    },
    {
      "cell_type": "code",
      "source": [
        "from google.colab import files \n",
        "\n",
        "uploaded = files.upload()"
      ],
      "metadata": {
        "colab": {
          "base_uri": "https://localhost:8080/",
          "height": 74
        },
        "id": "d72_P-MDWYLR",
        "outputId": "48cdd41a-7fda-40ca-ee6c-9a960e551ae5"
      },
      "execution_count": null,
      "outputs": [
        {
          "output_type": "display_data",
          "data": {
            "text/plain": [
              "<IPython.core.display.HTML object>"
            ],
            "text/html": [
              "\n",
              "     <input type=\"file\" id=\"files-d3ebb6e4-62d7-4405-bbc0-303fcfefa960\" name=\"files[]\" multiple disabled\n",
              "        style=\"border:none\" />\n",
              "     <output id=\"result-d3ebb6e4-62d7-4405-bbc0-303fcfefa960\">\n",
              "      Upload widget is only available when the cell has been executed in the\n",
              "      current browser session. Please rerun this cell to enable.\n",
              "      </output>\n",
              "      <script>// Copyright 2017 Google LLC\n",
              "//\n",
              "// Licensed under the Apache License, Version 2.0 (the \"License\");\n",
              "// you may not use this file except in compliance with the License.\n",
              "// You may obtain a copy of the License at\n",
              "//\n",
              "//      http://www.apache.org/licenses/LICENSE-2.0\n",
              "//\n",
              "// Unless required by applicable law or agreed to in writing, software\n",
              "// distributed under the License is distributed on an \"AS IS\" BASIS,\n",
              "// WITHOUT WARRANTIES OR CONDITIONS OF ANY KIND, either express or implied.\n",
              "// See the License for the specific language governing permissions and\n",
              "// limitations under the License.\n",
              "\n",
              "/**\n",
              " * @fileoverview Helpers for google.colab Python module.\n",
              " */\n",
              "(function(scope) {\n",
              "function span(text, styleAttributes = {}) {\n",
              "  const element = document.createElement('span');\n",
              "  element.textContent = text;\n",
              "  for (const key of Object.keys(styleAttributes)) {\n",
              "    element.style[key] = styleAttributes[key];\n",
              "  }\n",
              "  return element;\n",
              "}\n",
              "\n",
              "// Max number of bytes which will be uploaded at a time.\n",
              "const MAX_PAYLOAD_SIZE = 100 * 1024;\n",
              "\n",
              "function _uploadFiles(inputId, outputId) {\n",
              "  const steps = uploadFilesStep(inputId, outputId);\n",
              "  const outputElement = document.getElementById(outputId);\n",
              "  // Cache steps on the outputElement to make it available for the next call\n",
              "  // to uploadFilesContinue from Python.\n",
              "  outputElement.steps = steps;\n",
              "\n",
              "  return _uploadFilesContinue(outputId);\n",
              "}\n",
              "\n",
              "// This is roughly an async generator (not supported in the browser yet),\n",
              "// where there are multiple asynchronous steps and the Python side is going\n",
              "// to poll for completion of each step.\n",
              "// This uses a Promise to block the python side on completion of each step,\n",
              "// then passes the result of the previous step as the input to the next step.\n",
              "function _uploadFilesContinue(outputId) {\n",
              "  const outputElement = document.getElementById(outputId);\n",
              "  const steps = outputElement.steps;\n",
              "\n",
              "  const next = steps.next(outputElement.lastPromiseValue);\n",
              "  return Promise.resolve(next.value.promise).then((value) => {\n",
              "    // Cache the last promise value to make it available to the next\n",
              "    // step of the generator.\n",
              "    outputElement.lastPromiseValue = value;\n",
              "    return next.value.response;\n",
              "  });\n",
              "}\n",
              "\n",
              "/**\n",
              " * Generator function which is called between each async step of the upload\n",
              " * process.\n",
              " * @param {string} inputId Element ID of the input file picker element.\n",
              " * @param {string} outputId Element ID of the output display.\n",
              " * @return {!Iterable<!Object>} Iterable of next steps.\n",
              " */\n",
              "function* uploadFilesStep(inputId, outputId) {\n",
              "  const inputElement = document.getElementById(inputId);\n",
              "  inputElement.disabled = false;\n",
              "\n",
              "  const outputElement = document.getElementById(outputId);\n",
              "  outputElement.innerHTML = '';\n",
              "\n",
              "  const pickedPromise = new Promise((resolve) => {\n",
              "    inputElement.addEventListener('change', (e) => {\n",
              "      resolve(e.target.files);\n",
              "    });\n",
              "  });\n",
              "\n",
              "  const cancel = document.createElement('button');\n",
              "  inputElement.parentElement.appendChild(cancel);\n",
              "  cancel.textContent = 'Cancel upload';\n",
              "  const cancelPromise = new Promise((resolve) => {\n",
              "    cancel.onclick = () => {\n",
              "      resolve(null);\n",
              "    };\n",
              "  });\n",
              "\n",
              "  // Wait for the user to pick the files.\n",
              "  const files = yield {\n",
              "    promise: Promise.race([pickedPromise, cancelPromise]),\n",
              "    response: {\n",
              "      action: 'starting',\n",
              "    }\n",
              "  };\n",
              "\n",
              "  cancel.remove();\n",
              "\n",
              "  // Disable the input element since further picks are not allowed.\n",
              "  inputElement.disabled = true;\n",
              "\n",
              "  if (!files) {\n",
              "    return {\n",
              "      response: {\n",
              "        action: 'complete',\n",
              "      }\n",
              "    };\n",
              "  }\n",
              "\n",
              "  for (const file of files) {\n",
              "    const li = document.createElement('li');\n",
              "    li.append(span(file.name, {fontWeight: 'bold'}));\n",
              "    li.append(span(\n",
              "        `(${file.type || 'n/a'}) - ${file.size} bytes, ` +\n",
              "        `last modified: ${\n",
              "            file.lastModifiedDate ? file.lastModifiedDate.toLocaleDateString() :\n",
              "                                    'n/a'} - `));\n",
              "    const percent = span('0% done');\n",
              "    li.appendChild(percent);\n",
              "\n",
              "    outputElement.appendChild(li);\n",
              "\n",
              "    const fileDataPromise = new Promise((resolve) => {\n",
              "      const reader = new FileReader();\n",
              "      reader.onload = (e) => {\n",
              "        resolve(e.target.result);\n",
              "      };\n",
              "      reader.readAsArrayBuffer(file);\n",
              "    });\n",
              "    // Wait for the data to be ready.\n",
              "    let fileData = yield {\n",
              "      promise: fileDataPromise,\n",
              "      response: {\n",
              "        action: 'continue',\n",
              "      }\n",
              "    };\n",
              "\n",
              "    // Use a chunked sending to avoid message size limits. See b/62115660.\n",
              "    let position = 0;\n",
              "    do {\n",
              "      const length = Math.min(fileData.byteLength - position, MAX_PAYLOAD_SIZE);\n",
              "      const chunk = new Uint8Array(fileData, position, length);\n",
              "      position += length;\n",
              "\n",
              "      const base64 = btoa(String.fromCharCode.apply(null, chunk));\n",
              "      yield {\n",
              "        response: {\n",
              "          action: 'append',\n",
              "          file: file.name,\n",
              "          data: base64,\n",
              "        },\n",
              "      };\n",
              "\n",
              "      let percentDone = fileData.byteLength === 0 ?\n",
              "          100 :\n",
              "          Math.round((position / fileData.byteLength) * 100);\n",
              "      percent.textContent = `${percentDone}% done`;\n",
              "\n",
              "    } while (position < fileData.byteLength);\n",
              "  }\n",
              "\n",
              "  // All done.\n",
              "  yield {\n",
              "    response: {\n",
              "      action: 'complete',\n",
              "    }\n",
              "  };\n",
              "}\n",
              "\n",
              "scope.google = scope.google || {};\n",
              "scope.google.colab = scope.google.colab || {};\n",
              "scope.google.colab._files = {\n",
              "  _uploadFiles,\n",
              "  _uploadFilesContinue,\n",
              "};\n",
              "})(self);\n",
              "</script> "
            ]
          },
          "metadata": {}
        },
        {
          "output_type": "stream",
          "name": "stdout",
          "text": [
            "Saving deep_learning.txt to deep_learning.txt\n"
          ]
        }
      ]
    },
    {
      "cell_type": "code",
      "metadata": {
        "id": "jCBu_xdpKvXH",
        "colab": {
          "base_uri": "https://localhost:8080/",
          "height": 126
        },
        "outputId": "8e8da6e9-0905-43f7-f25a-07841e7a56b0"
      },
      "source": [
        "f=open('deep_learning.txt','r', errors=\"ignore\")\n",
        "raw = f.read() #read file\n",
        "raw = raw.lower()# converts to lowercase\n",
        "\n",
        "raw"
      ],
      "execution_count": null,
      "outputs": [
        {
          "output_type": "execute_result",
          "data": {
            "text/plain": [
              "'\\nchatbot\\nfrom wikipedia, the free encyclopedia\\njump to navigationjump to search\\nfor other uses, see chatbot (disambiguation).\\n\\na virtual assistant chatbot\\n\\nthe 1966 eliza chatbot\\na chatbot or chatterbot is a software application used to conduct an on-line chat conversation via text or text-to-speech, in lieu of providing direct contact with a live human agent.[1][2] designed to convincingly simulate the way a human would behave as a conversational partner, chatbot systems typically require continuous tuning and testing, and many in production remain unable to adequately converse, while none of them can pass the standard turing test.[3] the term \"chatterbot\" was originally coined by michael mauldin (creator of the first verbot) in 1994 to describe these conversational programs.[4]\\n\\nchatbots are used in dialog systems for various purposes including customer service, request routing, or information gathering. while some chatbot applications use extensive word-classification processes, natural-language processors, and sophisticated ai, others simply scan for general keywords and generate responses using common phrases obtained from an associated library or database.\\n\\nmost chatbots are accessed on-line via website popups or through virtual assistants. they can be classified into usage categories that include: commerce (e-commerce via chat), education, entertainment, finance, health, news, and productivity.[5]\\n\\n\\ncontents\\n1\\tbackground\\n2\\tdevelopment\\n3\\tapplication\\n3.1\\tmessaging apps\\n3.1.1\\tas part of company apps and websites\\n3.1.2\\tchatbot sequences\\n3.2\\tcompany internal platforms\\n3.3\\tcustomer service\\n3.4\\thealthcare\\n3.5\\tpolitics\\n3.6\\ttoys\\n3.7\\tmalicious use\\n4\\tlimitations of chatbots\\n5\\tchatbots and jobs\\n6\\tsee also\\n7\\treferences\\n7.1\\tbibliography\\n8\\tfurther reading\\n9\\texternal links\\nbackground\\nin 1950, alan turing\\'s famous article \"computing machinery and intelligence\" was published,[6] which proposed what is now called the turing test as a criterion of intelligence. this criterion depends on the ability of a computer program to impersonate a human in a real-time written conversation with a human judge to the extent that the judge is unable to distinguish reliably—on the basis of the conversational content alone—between the program and a real human. the notoriety of turing\\'s proposed test stimulated great interest in joseph weizenbaum\\'s program eliza, published in 1966, which seemed to be able to fool users into believing that they were conversing with a real human. however weizenbaum himself did not claim that eliza was genuinely intelligent, and the introduction to his paper presented it more as a debunking exercise:\\n\\n[in] artificial intelligence ... machines are made to behave in wondrous ways, often sufficient to dazzle even the most experienced observer. but once a particular program is unmasked, once its inner workings are explained ... its magic crumbles away; it stands revealed as a mere collection of procedures ... the observer says to himself \"i could have written that\". with that thought, he moves the program in question from the shelf marked \"intelligent\", to that reserved for curios ... the object of this paper is to cause just such a re-evaluation of the program about to be \"explained\". few programs ever needed it more.[7]\\n\\neliza\\'s key method of operation (copied by chatbot designers ever since) involves the recognition of clue words or phrases in the input, and the output of the corresponding pre-prepared or pre-programmed responses that can move the conversation forward in an apparently meaningful way (e.g. by responding to any input that contains the word \\'mother\\' with \\'tell me more about your family\\').[8] thus an illusion of understanding is generated, even though the processing involved has been merely superficial. eliza showed that such an illusion is surprisingly easy to generate because human judges are so ready to give the benefit of the doubt when conversational responses are capable of being interpreted as \"intelligent\".\\n\\ninterface designers have come to appreciate that humans\\' readiness to interpret computer output as genuinely conversational—even when it is actually based on rather simple pattern-matching—can be exploited for useful purposes. most people prefer to engage with programs that are human-like, and this gives chatbot-style techniques a potentially useful role in interactive systems that need to elicit information from users, as long as that information is relatively straightforward and falls into predictable categories. thus, for example, online help systems can usefully employ chatbot techniques to identify the area of help that users require, potentially providing a \"friendlier\" interface than a more formal search or menu system. this sort of usage holds the prospect of moving chatbot technology from weizenbaum\\'s \"shelf ... reserved for curios\" to that marked \"genuinely useful computational methods\".\\n\\ndevelopment\\namong the most notable early chatbots are eliza (1966) and parry (1972).[9][10][11][12] more recent notable programs include a.l.i.c.e., jabberwacky and d.u.d.e (agence nationale de la recherche and cnrs 2006). while eliza and parry were used exclusively to simulate typed conversation, many chatbots now include other functional features, such as games and web searching abilities. in 1984, a book called the policeman\\'s beard is half constructed was published, allegedly written by the chatbot racter (though the program as released would not have been capable of doing so).[13]\\n\\none pertinent field of ai research is natural-language processing. usually, weak ai fields employ specialized software or programming languages created specifically for the narrow function required. for example, a.l.i.c.e. uses a markup language called aiml,[2] which is specific to its function as a conversational agent, and has since been adopted by various other developers of, so-called, alicebots. nevertheless, a.l.i.c.e. is still purely based on pattern matching techniques without any reasoning capabilities, the same technique eliza was using back in 1966. this is not strong ai, which would require sapience and logical reasoning abilities.\\n\\njabberwacky learns new responses and context based on real-time user interactions, rather than being driven from a static database. some more recent chatbots also combine real-time learning with evolutionary algorithms that optimize their ability to communicate based on each conversation held. still, there is currently no general purpose conversational artificial intelligence, and some software developers focus on the practical aspect, information retrieval.\\n\\nchatbot competitions focus on the turing test or more specific goals. two such annual contests are the loebner prize and the chatterbox challenge (the latter has been offline since 2015, however, materials can still be found from web archives).[14]\\n\\ndbpedia created a chatbot during the gsoc of 2017.[15][16][17] it can communicate through facebook messenger.\\n\\nin november 2022, openai developed an ai chatbot called chatgpt which interacts using conversation to the general public and has garnered attention for its detailed responses and historical knowledge, although its accuracy has been criticized.\\n\\napplication\\nsee also: virtual assistant\\nmessaging apps\\nmany companies\\' chatbots run on messaging apps or simply via sms. they are used for b2c customer service, sales and marketing.[18]\\n\\nin 2016, facebook messenger allowed developers to place chatbots on their platform. there were 30,000 bots created for messenger in the first six months, rising to 100,000 by september 2017.[19]\\n\\nsince september 2017, this has also been as part of a pilot program on whatsapp. airlines klm and aeroméxico both announced their participation in the testing;[20][21][22][23] both airlines had previously launched customer services on the facebook messenger platform.\\n\\nthe bots usually appear as one of the user\\'s contacts, but can sometimes act as participants in a group chat.\\n\\nmany banks, insurers, media companies, e-commerce companies, airlines, hotel chains, retailers, health care providers, government entities and restaurant chains have used chatbots to answer simple questions, increase customer engagement,[24] for promotion, and to offer additional ways to order from them.[25]\\n\\na 2017 study showed 4% of companies used chatbots.[26] according to a 2016 study, 80% of businesses said they intended to have one by 2020.[27]\\n\\nas part of company apps and websites\\nprevious generations of chatbots were present on company websites, e.g. ask jenn from alaska airlines which debuted in 2008[28] or expedia\\'s virtual customer service agent which launched in 2011.[28][29] the newer generation of chatbots includes ibm watson-powered \"rocky\", introduced in february 2017 by the new york city-based e-commerce company rare carat to provide information to prospective diamond buyers.[30][31]\\n\\nchatbot sequences\\nused by marketers to script sequences of messages, very similar to an autoresponder sequence. such sequences can be triggered by user opt-in or the use of keywords within user interactions. after a trigger occurs a sequence of messages is delivered until the next anticipated user response. each user response is used in the decision tree to help the chatbot navigate the response sequences to deliver the correct response message.\\n\\ncompany internal platforms\\nother companies explore ways they can use chatbots internally, for example for customer support, human resources, or even in internet-of-things (iot) projects. overstock.com, for one, has reportedly launched a chatbot named mila to automate certain simple yet time-consuming processes when requesting sick leave.[32] other large companies such as lloyds banking group, royal bank of scotland, renault and citroën are now using automated online assistants instead of call centres with humans to provide a first point of contact. a saas chatbot business ecosystem has been steadily growing since the f8 conference when facebook\\'s mark zuckerberg unveiled that messenger would allow chatbots into the app.[33] in large companies, like in hospitals and aviation organizations, it architects are designing reference architectures for intelligent chatbots that are used to unlock and share knowledge and experience in the organization more efficiently, and reduce the errors in answers from expert service desks significantly.[34] these intelligent chatbots make use of all kinds of artificial intelligence like image moderation and natural-language understanding (nlu), natural-language generation (nlg), machine learning and deep learning.\\n\\ncustomer service\\nmany high-tech banking organizations are looking to integrate automated ai-based solutions such as chatbots into their customer service in order to provide faster and cheaper assistance to their clients who are becoming increasingly comfortable with technology. in particular, chatbots can efficiently conduct a dialogue, usually replacing other communication tools such as email, phone, or sms. in banking, their major application is related to quick customer service answering common requests, as well as transactional support.\\n\\nseveral studies report significant reduction in the cost of customer services, expected to lead to billions of dollars of economic savings in the next ten years.[35] in 2019, gartner predicted that by 2021, 15% of all customer service interactions globally will be handled completely by ai.[36] a study by juniper research in 2019 estimates retail sales resulting from chatbot-based interactions will reach $112 billion by 2023.[37]\\n\\nsince 2016, when facebook allowed businesses to deliver automated customer support, e-commerce guidance, content, and interactive experiences through chatbots, a large variety of chatbots were developed for the facebook messenger platform.[38]\\n\\nin 2016, russia-based tochka bank launched the world\\'s first facebook bot for a range of financial services, including a possibility of making payments.[39]\\n\\nin july 2016, barclays africa also launched a facebook chatbot, making it the first bank to do so in africa.[40]\\n\\nthe france\\'s third-largest bank by total assets[41] société générale launched their chatbot called sobot in march 2018. while 80% of users of the sobot expressed their satisfaction after having tested it, société générale deputy director bertrand cozzarolo stated that it will never replace the expertise provided by a human advisor. [42]\\n\\nthe advantages of using chatbots for customer interactions in banking include cost reduction, financial advice, and 24/7 support.[43][44]\\n\\nhealthcare\\nsee also: artificial intelligence in healthcare\\nchatbots are also appearing in the healthcare industry.[45][46] a study suggested that physicians in the united states believed that chatbots would be most beneficial for scheduling doctor appointments, locating health clinics, or providing medication information.[47]\\n\\nwhatsapp has teamed up with the world health organisation (who) to make a chatbot service that answers users’ questions on covid-19.[48]\\n\\nin 2020, the indian government launched a chatbot called mygov corona helpdesk,[49] that worked through whatsapp and helped people access information about the coronavirus (covid-19) pandemic.[50][51]\\n\\ncertain patient groups are still reluctant to use chatbots. a mixed-methods study showed that people are still hesitant to use chatbots for their healthcare due to poor understanding of the technological complexity, the lack of empathy, and concerns about cyber-security.[52] the analysis showed that while 6% had heard of a health chatbot and 3% had experience of using it, 67% perceived themselves as likely to use one within 12 months. the majority of participants would use a health chatbot for seeking general health information (78%), booking a medical appointment (78%), and looking for local health services (80%). however, a health chatbot was perceived as less suitable for seeking results of medical tests and seeking specialist advice such as sexual health. the analysis of attitudinal variables showed that most participants reported their preference for discussing their health with doctors (73%) and having access to reliable and accurate health information (93%). while 80% were curious about new technologies that could improve their health, 66% reported only seeking a doctor when experiencing a health problem and 65% thought that a chatbot was a good idea. interestingly, 30% reported dislike about talking to computers, 41% felt it would be strange to discuss health matters with a chatbot and about half were unsure if they could trust the advice given by a chatbot. therefore, perceived trustworthiness, individual attitudes towards bots, and dislike for talking to computers are the main barriers to health chatbots.\\n\\npolitics\\nsee also: government by algorithm § ai politicians\\nin new zealand, the chatbot sam – short for semantic analysis machine[53] (made by nick gerritsen of touchtech[54]) – has been developed. it is designed to share its political thoughts, for example on topics such as climate change, healthcare and education, etc. it talks to people through facebook messenger.[55][56][57][58]\\n\\nin 2022, the chatbot \"leader lars\" or \"leder lars\" was nominated for the synthetic party to run in the danish parliamentary election,[59] and was built by the artist collective computer lars.[60] leader lars differed from earlier virtual politicians by leading a political party and by not pretending to be an objective candidate.[61] this chatbot engaged in critical discussions on politics with users from around the world.[62]\\n\\nin india, the state government has launched a chatbot for its aaple sarkar platform,[63] which provides conversational access to information regarding public services managed.[64][65]\\n\\ntoys\\nchatbots have also been incorporated into devices not primarily meant for computing, such as toys.[66]\\n\\nhello barbie is an internet-connected version of the doll that uses a chatbot provided by the company toytalk,[67] which previously used the chatbot for a range of smartphone-based characters for children.[68] these characters\\' behaviors are constrained by a set of rules that in effect emulate a particular character and produce a storyline.[69]\\n\\nthe my friend cayla doll was marketed as a line of 18-inch (46 cm) dolls which uses speech recognition technology in conjunction with an android or ios mobile app to recognize the child\\'s speech and have a conversation. it, like the hello barbie doll, attracted controversy due to vulnerabilities with the doll\\'s bluetooth stack and its use of data collected from the child\\'s speech.\\n\\nibm\\'s watson computer has been used as the basis for chatbot-based educational toys for companies such as cognitoys[66] intended to interact with children for educational purposes.[70]\\n\\nmalicious use\\nmalicious chatbots are frequently used to fill chat rooms with spam and advertisements, by mimicking human behavior and conversations or to entice people into revealing personal information, such as bank account numbers. they were commonly found on yahoo! messenger, windows live messenger, aol instant messenger and other instant messaging protocols. there has also been a published report of a chatbot used in a fake personal ad on a dating service\\'s website.[71]\\n\\ntay, an ai chatbot that learns from previous interaction, caused major controversy due to it being targeted by internet trolls on twitter. the bot was exploited, and after 16 hours began to send extremely offensive tweets to users. this suggests that although the bot learned effectively from experience, adequate protection was not put in place to prevent misuse.[72]\\n\\nif a text-sending algorithm can pass itself off as a human instead of a chatbot, its message would be more credible. therefore, human-seeming chatbots with well-crafted online identities could start scattering fake news that seems plausible, for instance making false claims during an election. with enough chatbots, it might be even possible to achieve artificial social proof.[73][74]\\n\\nlimitations of chatbots\\nthe creation and implementation of chatbots is still a developing area, heavily related to artificial intelligence and machine learning, so the provided solutions, while possessing obvious advantages, have some important limitations in terms of functionalities and use cases. however, this is changing over time.\\n\\nthe most common limitations are listed below:[75]\\n\\nas the database, used for output generation, is fixed and limited, chatbots can fail while dealing with an unsaved query.[44]\\na chatbot\\'s efficiency highly depends on language processing and is limited because of irregularities, such as accents and mistakes.\\nchatbots are unable to deal with multiple questions at the same time and so conversation opportunities are limited.[75]\\nchatbots require a large amount of conversational data to train. generative models, which are based on deep learning algorithms to generate new responses word by word based on user input, are usually trained on a large dataset of natural-language phrases.[2]\\nchatbots have difficulty managing non-linear conversations that must go back and forth on a topic with a user.[76]\\nas it happens usually with technology-led changes in existing services, some consumers, more often than not from older generations, are uncomfortable with chatbots due to their limited understanding, making it obvious that their requests are being dealt with by machines.[75]\\nchatbots and jobs\\nchatbots are increasingly present in businesses and often are used to automate tasks that do not require skill-based talents. with customer service taking place via messaging apps as well as phone calls, there are growing numbers of use-cases where chatbot deployment gives organizations a clear return on investment. call center workers may be particularly at risk from ai-driven chatbots.[77]\\n\\nchatbot jobs\\n\\nchatbot developers create, debug, and maintain applications that automate customer services or other communication processes. their duties include reviewing and simplifying code when needed. they may also help companies implement bots in their operations.\\n\\na study by forrester (june 2017) predicted that 25% of all jobs would be impacted by ai technologies by 2019.[78]\\n\\nsee also\\nicon\\tlinguistics portal\\napplications of artificial intelligence\\nartificial philosophy\\nautonomous agent\\nchatgpt (from openai)\\nconversational user interface\\neugene goostman\\nfriendly artificial intelligence\\nhybrid intelligent system\\nintelligent agent\\ninternet bot\\nlist of chatbots\\nmulti-agent system\\nnatural language processing\\nsocial bot\\nsoftware agent\\nsoftware bot\\ntwitterbot\\nvirtual assistant\\nreferences\\n \"what is a chatbot?\". techtarget.com. retrieved 30 january 2017.\\n caldarini, guendalina; jaf, sardar; mcgarry, kenneth (2022). \"a literature survey of recent advances in chatbots\". information. mdpi. 13 (1): 41. doi:10.3390/info13010041.\\n luka bradeško, dunja mladenić. \"a survey of chabot systems through a loebner prize competition\". s2cid 39745939.\\n mauldin 1994\\n \"2017 messenger bot landscape, a public spreadsheet gathering 1000+ messenger bots\". 3 may 2017.\\n (turing 1950)\\n (weizenbaum 1966, p. 36)\\n (weizenbaum 1966, pp. 44–5)\\n güzelderefranchi 1995\\n computer history museum 2006\\n sondheim 1997\\n network working group 1973—transcript of a session between parry and eliza. (this is not the dialogue from the iccc, which took place october 24–26, 1972, whereas this session is from september 18, 1972.)\\n http://everything2.com/title/the+policeman%2527s+beard+is+half+constructed 13 november 1999\\n \"chatroboter simulieren menschen\".\\n \"dbpedia chatbot\". chat.dbpedia.org.\\n \"meet the dbpedia chatbot | dbpedia\". wiki.dbpedia.org. 22 august 2018.\\n \"meet the dbpedia chatbot\". august 22, 2018.\\n beaver, laurie (july 2016). the chatbots explainer. bi intelligence.\\n \"facebook messenger hits 100,000 bots\". 2017-04-18. retrieved 2017-09-22.\\n \"klm claims airline first with whatsapp business platform\". www.phocuswire.com.\\n forbes staff (26 october 2017). \"aeroméxico te atenderá por whatsapp durante 2018\". retrieved 2 july 2018.\\n redacción (27 october 2017). \"podrás hacer \\'check in\\' y consultar tu vuelo con aeroméxico a través de whatsapp\". huffington post. archived from the original on 10 march 2018. retrieved 2 july 2018.\\n \"building for people, and now businesses\". whatsapp.com. retrieved 2 july 2018.\\n \"she is the company\\'s most effective employee\". nordea news.\\n \"better believe the bot boom is blowing up big for b2b, b2c businesses\". venturebeat. 2016-07-24.\\n \"the ai revolution is underway! – pm360\". www.pm360online.com. retrieved 2 july 2018.\\n \"80% of businesses want chatbots by 2020\". business insider. retrieved 2 july 2018.\\n \"a virtual travel agent with all the answers\". the new york times. 4 march 2008.\\n \"chatbot vendor directory released –\". www.hypergridbusiness.com.\\n \"rare carat\\'s watson-powered chatbot will help you put a diamond ring on it\". techcrunch. february 15, 2017.\\n \"10 ways you may have already used ibm watson\". venturebeat. march 10, 2017.\\n greenfield, rebecca (5 may 2016). \"chatbots are your newest, dumbest co-workers\". bloomberg.com.\\n \"facebook opens its messenger platform to chatbots\". 12 april 2016.\\n \"chatbot reference architecture\". 1 january 2019.\\n \"how chatbots are transforming wall street and main street banks?\". 1 april 2019.\\n \"how to manage customer service technology innovation\". www.gartner.com. archived from the original on december 11, 2019. retrieved 2020-01-02.\\n \"chatbot interactions in retail to reach 22 billion by 2023, as ai offers compelling new engagement solutions\". www.juniperresearch.com. retrieved 2020-01-02.\\n \"facebook launches messenger platform with chatbots\". 1 april 2019.\\n \"российский банк запустил чат-бота в facebook\". 1 april 2019.\\n \"absa launches \\'world-first\\' facebook messenger banking\". 1 april 2019.\\n \"the biggest french banks by total assets\". banks around the world. retrieved april 1, 2019.\\n \"gagner du temps avec le chatbot bancaire pour gagner en intelligence avec les conseillers\". marketing client. retrieved april 1, 2019.\\n \"meet 11 of the most interesting chatbots in banking\". the financial brain. 14 march 2018. retrieved april 1, 2019.\\n \"chatbots: boon or bane?\". bluelupin. 9 january 2018. retrieved april 1, 2019.\\n larson, selena (october 11, 2016). \"baidu is bringing ai chatbots to healthcare\". cnn money.\\n \"ai chatbots have a future in healthcare, with caveats\". ai in healthcare.\\n palanica, adam; flaschner, peter; thommandram, anirudh; li, michael; fossat, yan (january 3, 2019). \"physicians\\' perceptions of chatbots in health care: cross-sectional web-based survey\". journal of medical internet research. 21 (4): e12887. doi:10.2196/12887. pmc 6473203. pmid 30950796.\\n ahaskar, abhijit (2020-03-27). \"how whatsapp chatbots are helping in the fight against covid-19\". mint. retrieved 2020-07-23.\\n \"india\\'s coronavirus chatbot on whatsapp crosses 1.7 crore users in 10 days\". ndtv gadgets 360. retrieved 2020-07-23.\\n kurup, rajesh (21 march 2020). \"covid-19: govt of india launches a whatsapp chatbot\". business line. retrieved 2020-07-23.\\n \"in focus: mumbai-based haptik which developed india\\'s official whatsapp chatbot for covid-19\". hindustan times. 7 april 2020. retrieved 2020-07-23.\\n nadarzynski, tom; miles, oliver; cowie, aimee; ridge, damien (january 1, 2019). \"acceptability of artificial intelligence (ai)-led chatbot services in healthcare: a mixed-methods study\". digital health. 5: 2055207619871808. doi:10.1177/2055207619871808. pmc 6704417. pmid 31467682.\\n \"sam, the virtual politician\". tuia innovation.\\n wellington, victoria university of (december 15, 2017). \"meet the world\\'s first virtual politician\". victoria university of wellington.\\n wagner, meg (23 november 2017). \"this virtual politician wants to run for office\". cnn.\\n \"talk with the first-ever robot politician on facebook messenger\". engadget.\\n prakash, abishur (august 8, 2018). \"ai-politicians: a revolution in politics\". medium.\\n sam website\\n sternberg, sarah (20 june 2022). \"danskere vil ind på den politiske scene med kunstig intelligens\" [danes want to enter the political scene with artificial intelligence]. jyllands-posten. retrieved 2022-06-20.\\n diwakar, amar (2022-08-22). \"can an ai-led danish party usher in an age of algorithmic politics?\". trt world. retrieved 2022-08-22.\\n xiang, chloe (13 october 2022). \"this danish political party is led by an ai\". vice: motherboard. retrieved 2022-10-13.\\n hearing, alice (14 october 2022). \"a.i. chatbot is leading a danish political party and setting its policies. now users are grilling it for its stance on political landmines\". fortune.\\n \"maharashtra government launches aaple sarkar chatbot to provide info on 1,400 public services\". cnbc tv18. 5 march 2019. retrieved 2020-07-23.\\n \"government of maharashtra launches aaple sarkar chatbot with haptik\". the economic times. retrieved 2020-07-23.\\n aggarwal, varun (5 march 2019). \"maharashtra launches aaple sarkar chatbot\". business line. retrieved 2020-07-23.\\n amy (2015-02-23). \"conversational toys – the latest trend in speech technology\". virtual agent chat. archived from the original on 2018-02-21. retrieved 2016-08-11.\\n nagy, evie (13 february 2015). \"using toy-talk technology, new hello barbie will have real conversations with kids\". fast company. retrieved 18 march 2015.\\n oren jacob, the co-founder and ceo of toytalk interviewed on the tv show triangulation on the twit.tv network\\n \"artificial intelligence script tool\".\\n takahashi, dean (23 february 2015). \"elemental\\'s smart connected toy taps ibm\\'s watson supercomputer for its brains\". venture beat. retrieved 15 may 2015.\\n \"from russia with love\" (pdf). retrieved 2007-12-09. psychologist and scientific american: mind contributing editor robert epstein reports how he was initially fooled by a chatterbot posing as an attractive girl in a personal ad he answered on a dating website. in the ad, the girl portrayed herself as being in southern california and then soon revealed, in poor english, that she was actually in russia. he became suspicious after a couple of months of email exchanges, sent her an email test of gibberish, and she still replied in general terms. the dating website is not named. scientific american: mind, october–november 2007, page 16–17, \"from russia with love: how i got fooled (and somewhat humiliated) by a computer\". also available online.\\n bird, jordan j.; ekart, aniko; faria, diego r. (june 2018). learning from interaction: an intelligent networked-based human-bot and bot-bot chatbot system in: advances in computational intelligence systems (1st ed.). nottingham, uk: springer. pp. 179–190. doi:10.1007/978-3-319-97982-3_15. isbn 978-3-319-97982-3. s2cid 52069140.\\n \"fake news\". 20 november 2018. retrieved 2018-11-20.\\n \"malicious uses\". retrieved 2016-05-11.\\n \"meet 11 of the most interesting chatbots in banking\". 14 march 2018. retrieved 2019-04-01.\\n grudin, jonathan; jacques, richard (2019), \"chatbots, humbots, and the quest for artificial general intelligence\", proceedings of the 2019 chi conference on human factors in computing systems – chi \\'19, acm chi 2020, pp. 209–219, doi:10.1145/3290605.3300439, isbn 978-1-4503-5970-2, s2cid 140274744\\n \"how talking machines are taking call center jobs\". bbc news. 23 august 2018. retrieved 2019-04-01.\\n \"how chatbots are killing jobs (and creating new ones)\". june 2017. retrieved 2019-04-01.\\nbibliography\\ncomputer history museum (2006), \"internet history—1970\\'s\", exhibits, computer history museum, archived from the original on 2008-02-21, retrieved 2008-03-05\\ngüzeldere, güven; franchi, stefano (1995-07-24), \"constructions of the mind\", stanford humanities review, sehr, stanford university, 4 (2), retrieved 2008-03-05\\nmauldin, michael (1994), \"chatterbots, tinymuds, and the turing test: entering the loebner prize competition\", proceedings of the eleventh national conference on artificial intelligence, aaai press, retrieved 2008-03-05 (abstract)\\nnetwork working group (1973), \"rfc 439, parry encounters the doctor\", internet engineering task force, internet society, doi:10.17487/rfc0439, retrieved 2008-03-05\\nsondheim, alan j (1997), <nettime> important documents from the early internet (1972), nettime.org, archived from the original on 2008-06-13, retrieved 2008-03-05\\nturing, alan (1950), \"computing machinery and intelligence\", mind, 59 (236): 433–60, doi:10.1093/mind/lix.236.433\\nweizenbaum, joseph (january 1966), \"eliza—a computer program for the study of natural language communication between man and machine\", communications of the acm, 9 (1): 36–45, doi:10.1145/365153.365168, s2cid 1896290\\nfurther reading\\nsearle, john (1980), \"minds, brains and programs\", behavioral and brain sciences, 3 (3): 417–457, doi:10.1017/s0140525x00005756, s2cid 55303721\\nshevat, amir (2017). designing bots: creating conversational experiences (first ed.). sebastopol, ca: o\\'reilly media. isbn 978-1-4919-7482-7. oclc 962125282.\\nexternal links\\n media related to chatbots at wikimedia commons\\n conversational bots at wikibooks\\nvte\\nnatural language processing\\nportal:\\nicon language\\nauthority control: national libraries edit this at wikidata\\t\\ngermanyczech republic\\ncategories: chatbotsinstant messaginginteractive narrativenatural language parsing\\nnavigation menu\\nnot logged in\\ntalk\\ncontributions\\ncreate account\\nlog in\\narticletalk\\nreadeditview history\\nsearch wikipedia\\nmain page\\ncontents\\ncurrent events\\nrandom article\\nabout wikipedia\\ncontact us\\ndonate\\ncontribute\\nhelp\\nlearn to edit\\ncommunity portal\\nrecent changes\\nupload file\\ntools\\nwhat links here\\nrelated changes\\nspecial pages\\npermanent link\\npage information\\ncite this page\\nwikidata item\\nprint/export\\ndownload as pdf\\nprintable version\\nin other projects\\nwikimedia commons\\nwikibooks\\n\\nlanguages\\nafrikaans\\nالعربية\\ndeutsch\\nespañol\\nfrançais\\nbahasa indonesia\\nportuguês\\nрусский\\n中文\\n32 more\\nedit links\\nthis page was last edited on 13 january 2023, at 20:20 (utc).\\ntext is available under the creative commons attribution-sharealike license 3.0; additional terms may apply. by using this site, you agree to the terms of use and privacy policy. wikipedia® is a registered trademark of the wikimedia foundation, inc., a non-profit organization.\\nprivacy policyabout wikipediadisclaimerscontact wikipediamobile viewdevelopersstatisticscookie statementwikimedia foundationpowered by mediawiki'"
            ],
            "application/vnd.google.colaboratory.intrinsic+json": {
              "type": "string"
            }
          },
          "metadata": {},
          "execution_count": 5
        }
      ]
    },
    {
      "cell_type": "markdown",
      "metadata": {
        "id": "pQMbWKz2KvXP"
      },
      "source": [
        "\n",
        "The main issue with text data is that it is all in text format (strings). However, the Machine learning algorithms need some sort of numerical feature vector in order to perform the task. So before we start with any NLP project we need to pre-process it to make it ideal for working. Basic text pre-processing includes:\n",
        "\n",
        "* Converting the entire text into **uppercase** or **lowercase**, so that the algorithm does not treat the same words in different cases as different\n",
        "\n",
        "* **Tokenization**: Tokenization is just the term used to describe the process of converting the normal text strings into a list of tokens i.e words that we actually want. Sentence tokenizer can be used to find the list of sentences and Word tokenizer can be used to find the list of words in strings.\n",
        "\n",
        "_The NLTK data package includes a pre-trained Punkt tokenizer for English._\n",
        "\n",
        "* Removing **Noise** i.e everything that isn’t in a standard number or letter.\n",
        "* Removing the **Stop words**. Sometimes, some extremely common words which would appear to be of little value in helping select documents matching a user need are excluded from the vocabulary entirely. These words are called stop words\n",
        "* **Stemming**: Stemming is the process of reducing inflected (or sometimes derived) words to their stem, base or root form — generally a written word form. Example if we were to stem the following words: “Stems”, “Stemming”, “Stemmed”, “and Stemtization”, the result would be a single word “stem”.\n",
        "* **Lemmatization**: A slight variant of stemming is lemmatization. The major difference between these is, that, stemming can often create non-existent words, whereas lemmas are actual words. So, your root stem, meaning the word you end up with, is not something you can just look up in a dictionary, but you can look up a lemma. Examples of Lemmatization are that “run” is a base form for words like “running” or “ran” or that the word “better” and “good” are in the same lemma so they are considered the same.\n",
        "\n"
      ]
    },
    {
      "cell_type": "markdown",
      "metadata": {
        "id": "hOWyEgMdKvXQ"
      },
      "source": [
        "## Tokenisation"
      ]
    },
    {
      "cell_type": "code",
      "source": [
        "from nltk.tokenize import word_tokenize, sent_tokenize\n",
        "\n"
      ],
      "metadata": {
        "id": "PG_S8BqqYFZV"
      },
      "execution_count": null,
      "outputs": []
    },
    {
      "cell_type": "code",
      "metadata": {
        "id": "ZpjjYkZNKvXS"
      },
      "source": [
        "sent_tokens = sent_tokenize(raw) # converts to list of sentences \n",
        "word_tokens = word_tokenize(raw) # converts to list of words"
      ],
      "execution_count": null,
      "outputs": []
    },
    {
      "cell_type": "code",
      "source": [
        "sent_tokens"
      ],
      "metadata": {
        "colab": {
          "base_uri": "https://localhost:8080/"
        },
        "id": "D7dG_tNQZEsW",
        "outputId": "780cb30b-e6e6-48a0-940a-cc5a2c59bd3f"
      },
      "execution_count": null,
      "outputs": [
        {
          "output_type": "execute_result",
          "data": {
            "text/plain": [
              "['\\nchatbot\\nfrom wikipedia, the free encyclopedia\\njump to navigationjump to search\\nfor other uses, see chatbot (disambiguation).',\n",
              " 'a virtual assistant chatbot\\n\\nthe 1966 eliza chatbot\\na chatbot or chatterbot is a software application used to conduct an on-line chat conversation via text or text-to-speech, in lieu of providing direct contact with a live human agent.',\n",
              " '[1][2] designed to convincingly simulate the way a human would behave as a conversational partner, chatbot systems typically require continuous tuning and testing, and many in production remain unable to adequately converse, while none of them can pass the standard turing test.',\n",
              " '[3] the term \"chatterbot\" was originally coined by michael mauldin (creator of the first verbot) in 1994 to describe these conversational programs.',\n",
              " '[4]\\n\\nchatbots are used in dialog systems for various purposes including customer service, request routing, or information gathering.',\n",
              " 'while some chatbot applications use extensive word-classification processes, natural-language processors, and sophisticated ai, others simply scan for general keywords and generate responses using common phrases obtained from an associated library or database.',\n",
              " 'most chatbots are accessed on-line via website popups or through virtual assistants.',\n",
              " 'they can be classified into usage categories that include: commerce (e-commerce via chat), education, entertainment, finance, health, news, and productivity.',\n",
              " '[5]\\n\\n\\ncontents\\n1\\tbackground\\n2\\tdevelopment\\n3\\tapplication\\n3.1\\tmessaging apps\\n3.1.1\\tas part of company apps and websites\\n3.1.2\\tchatbot sequences\\n3.2\\tcompany internal platforms\\n3.3\\tcustomer service\\n3.4\\thealthcare\\n3.5\\tpolitics\\n3.6\\ttoys\\n3.7\\tmalicious use\\n4\\tlimitations of chatbots\\n5\\tchatbots and jobs\\n6\\tsee also\\n7\\treferences\\n7.1\\tbibliography\\n8\\tfurther reading\\n9\\texternal links\\nbackground\\nin 1950, alan turing\\'s famous article \"computing machinery and intelligence\" was published,[6] which proposed what is now called the turing test as a criterion of intelligence.',\n",
              " 'this criterion depends on the ability of a computer program to impersonate a human in a real-time written conversation with a human judge to the extent that the judge is unable to distinguish reliably—on the basis of the conversational content alone—between the program and a real human.',\n",
              " \"the notoriety of turing's proposed test stimulated great interest in joseph weizenbaum's program eliza, published in 1966, which seemed to be able to fool users into believing that they were conversing with a real human.\",\n",
              " 'however weizenbaum himself did not claim that eliza was genuinely intelligent, and the introduction to his paper presented it more as a debunking exercise:\\n\\n[in] artificial intelligence ... machines are made to behave in wondrous ways, often sufficient to dazzle even the most experienced observer.',\n",
              " 'but once a particular program is unmasked, once its inner workings are explained ... its magic crumbles away; it stands revealed as a mere collection of procedures ... the observer says to himself \"i could have written that\".',\n",
              " 'with that thought, he moves the program in question from the shelf marked \"intelligent\", to that reserved for curios ... the object of this paper is to cause just such a re-evaluation of the program about to be \"explained\".',\n",
              " 'few programs ever needed it more.',\n",
              " \"[7]\\n\\neliza's key method of operation (copied by chatbot designers ever since) involves the recognition of clue words or phrases in the input, and the output of the corresponding pre-prepared or pre-programmed responses that can move the conversation forward in an apparently meaningful way (e.g.\",\n",
              " \"by responding to any input that contains the word 'mother' with 'tell me more about your family').\",\n",
              " '[8] thus an illusion of understanding is generated, even though the processing involved has been merely superficial.',\n",
              " 'eliza showed that such an illusion is surprisingly easy to generate because human judges are so ready to give the benefit of the doubt when conversational responses are capable of being interpreted as \"intelligent\".',\n",
              " \"interface designers have come to appreciate that humans' readiness to interpret computer output as genuinely conversational—even when it is actually based on rather simple pattern-matching—can be exploited for useful purposes.\",\n",
              " 'most people prefer to engage with programs that are human-like, and this gives chatbot-style techniques a potentially useful role in interactive systems that need to elicit information from users, as long as that information is relatively straightforward and falls into predictable categories.',\n",
              " 'thus, for example, online help systems can usefully employ chatbot techniques to identify the area of help that users require, potentially providing a \"friendlier\" interface than a more formal search or menu system.',\n",
              " 'this sort of usage holds the prospect of moving chatbot technology from weizenbaum\\'s \"shelf ... reserved for curios\" to that marked \"genuinely useful computational methods\".',\n",
              " 'development\\namong the most notable early chatbots are eliza (1966) and parry (1972).',\n",
              " '[9][10][11][12] more recent notable programs include a.l.i.c.e., jabberwacky and d.u.d.e (agence nationale de la recherche and cnrs 2006).',\n",
              " 'while eliza and parry were used exclusively to simulate typed conversation, many chatbots now include other functional features, such as games and web searching abilities.',\n",
              " \"in 1984, a book called the policeman's beard is half constructed was published, allegedly written by the chatbot racter (though the program as released would not have been capable of doing so).\",\n",
              " '[13]\\n\\none pertinent field of ai research is natural-language processing.',\n",
              " 'usually, weak ai fields employ specialized software or programming languages created specifically for the narrow function required.',\n",
              " 'for example, a.l.i.c.e.',\n",
              " 'uses a markup language called aiml,[2] which is specific to its function as a conversational agent, and has since been adopted by various other developers of, so-called, alicebots.',\n",
              " 'nevertheless, a.l.i.c.e.',\n",
              " 'is still purely based on pattern matching techniques without any reasoning capabilities, the same technique eliza was using back in 1966. this is not strong ai, which would require sapience and logical reasoning abilities.',\n",
              " 'jabberwacky learns new responses and context based on real-time user interactions, rather than being driven from a static database.',\n",
              " 'some more recent chatbots also combine real-time learning with evolutionary algorithms that optimize their ability to communicate based on each conversation held.',\n",
              " 'still, there is currently no general purpose conversational artificial intelligence, and some software developers focus on the practical aspect, information retrieval.',\n",
              " 'chatbot competitions focus on the turing test or more specific goals.',\n",
              " 'two such annual contests are the loebner prize and the chatterbox challenge (the latter has been offline since 2015, however, materials can still be found from web archives).',\n",
              " '[14]\\n\\ndbpedia created a chatbot during the gsoc of 2017.',\n",
              " '[15][16][17] it can communicate through facebook messenger.',\n",
              " 'in november 2022, openai developed an ai chatbot called chatgpt which interacts using conversation to the general public and has garnered attention for its detailed responses and historical knowledge, although its accuracy has been criticized.',\n",
              " \"application\\nsee also: virtual assistant\\nmessaging apps\\nmany companies' chatbots run on messaging apps or simply via sms.\",\n",
              " 'they are used for b2c customer service, sales and marketing.',\n",
              " '[18]\\n\\nin 2016, facebook messenger allowed developers to place chatbots on their platform.',\n",
              " 'there were 30,000 bots created for messenger in the first six months, rising to 100,000 by september 2017.',\n",
              " '[19]\\n\\nsince september 2017, this has also been as part of a pilot program on whatsapp.',\n",
              " 'airlines klm and aeroméxico both announced their participation in the testing;[20][21][22][23] both airlines had previously launched customer services on the facebook messenger platform.',\n",
              " \"the bots usually appear as one of the user's contacts, but can sometimes act as participants in a group chat.\",\n",
              " 'many banks, insurers, media companies, e-commerce companies, airlines, hotel chains, retailers, health care providers, government entities and restaurant chains have used chatbots to answer simple questions, increase customer engagement,[24] for promotion, and to offer additional ways to order from them.',\n",
              " '[25]\\n\\na 2017 study showed 4% of companies used chatbots.',\n",
              " '[26] according to a 2016 study, 80% of businesses said they intended to have one by 2020.',\n",
              " '[27]\\n\\nas part of company apps and websites\\nprevious generations of chatbots were present on company websites, e.g.',\n",
              " \"ask jenn from alaska airlines which debuted in 2008[28] or expedia's virtual customer service agent which launched in 2011.\",\n",
              " '[28][29] the newer generation of chatbots includes ibm watson-powered \"rocky\", introduced in february 2017 by the new york city-based e-commerce company rare carat to provide information to prospective diamond buyers.',\n",
              " '[30][31]\\n\\nchatbot sequences\\nused by marketers to script sequences of messages, very similar to an autoresponder sequence.',\n",
              " 'such sequences can be triggered by user opt-in or the use of keywords within user interactions.',\n",
              " 'after a trigger occurs a sequence of messages is delivered until the next anticipated user response.',\n",
              " 'each user response is used in the decision tree to help the chatbot navigate the response sequences to deliver the correct response message.',\n",
              " 'company internal platforms\\nother companies explore ways they can use chatbots internally, for example for customer support, human resources, or even in internet-of-things (iot) projects.',\n",
              " 'overstock.com, for one, has reportedly launched a chatbot named mila to automate certain simple yet time-consuming processes when requesting sick leave.',\n",
              " '[32] other large companies such as lloyds banking group, royal bank of scotland, renault and citroën are now using automated online assistants instead of call centres with humans to provide a first point of contact.',\n",
              " \"a saas chatbot business ecosystem has been steadily growing since the f8 conference when facebook's mark zuckerberg unveiled that messenger would allow chatbots into the app.\",\n",
              " '[33] in large companies, like in hospitals and aviation organizations, it architects are designing reference architectures for intelligent chatbots that are used to unlock and share knowledge and experience in the organization more efficiently, and reduce the errors in answers from expert service desks significantly.',\n",
              " '[34] these intelligent chatbots make use of all kinds of artificial intelligence like image moderation and natural-language understanding (nlu), natural-language generation (nlg), machine learning and deep learning.',\n",
              " 'customer service\\nmany high-tech banking organizations are looking to integrate automated ai-based solutions such as chatbots into their customer service in order to provide faster and cheaper assistance to their clients who are becoming increasingly comfortable with technology.',\n",
              " 'in particular, chatbots can efficiently conduct a dialogue, usually replacing other communication tools such as email, phone, or sms.',\n",
              " 'in banking, their major application is related to quick customer service answering common requests, as well as transactional support.',\n",
              " 'several studies report significant reduction in the cost of customer services, expected to lead to billions of dollars of economic savings in the next ten years.',\n",
              " '[35] in 2019, gartner predicted that by 2021, 15% of all customer service interactions globally will be handled completely by ai.',\n",
              " '[36] a study by juniper research in 2019 estimates retail sales resulting from chatbot-based interactions will reach $112 billion by 2023.',\n",
              " '[37]\\n\\nsince 2016, when facebook allowed businesses to deliver automated customer support, e-commerce guidance, content, and interactive experiences through chatbots, a large variety of chatbots were developed for the facebook messenger platform.',\n",
              " \"[38]\\n\\nin 2016, russia-based tochka bank launched the world's first facebook bot for a range of financial services, including a possibility of making payments.\",\n",
              " '[39]\\n\\nin july 2016, barclays africa also launched a facebook chatbot, making it the first bank to do so in africa.',\n",
              " \"[40]\\n\\nthe france's third-largest bank by total assets[41] société générale launched their chatbot called sobot in march 2018. while 80% of users of the sobot expressed their satisfaction after having tested it, société générale deputy director bertrand cozzarolo stated that it will never replace the expertise provided by a human advisor.\",\n",
              " '[42]\\n\\nthe advantages of using chatbots for customer interactions in banking include cost reduction, financial advice, and 24/7 support.',\n",
              " '[43][44]\\n\\nhealthcare\\nsee also: artificial intelligence in healthcare\\nchatbots are also appearing in the healthcare industry.',\n",
              " '[45][46] a study suggested that physicians in the united states believed that chatbots would be most beneficial for scheduling doctor appointments, locating health clinics, or providing medication information.',\n",
              " '[47]\\n\\nwhatsapp has teamed up with the world health organisation (who) to make a chatbot service that answers users’ questions on covid-19.',\n",
              " '[48]\\n\\nin 2020, the indian government launched a chatbot called mygov corona helpdesk,[49] that worked through whatsapp and helped people access information about the coronavirus (covid-19) pandemic.',\n",
              " '[50][51]\\n\\ncertain patient groups are still reluctant to use chatbots.',\n",
              " 'a mixed-methods study showed that people are still hesitant to use chatbots for their healthcare due to poor understanding of the technological complexity, the lack of empathy, and concerns about cyber-security.',\n",
              " '[52] the analysis showed that while 6% had heard of a health chatbot and 3% had experience of using it, 67% perceived themselves as likely to use one within 12 months.',\n",
              " 'the majority of participants would use a health chatbot for seeking general health information (78%), booking a medical appointment (78%), and looking for local health services (80%).',\n",
              " 'however, a health chatbot was perceived as less suitable for seeking results of medical tests and seeking specialist advice such as sexual health.',\n",
              " 'the analysis of attitudinal variables showed that most participants reported their preference for discussing their health with doctors (73%) and having access to reliable and accurate health information (93%).',\n",
              " 'while 80% were curious about new technologies that could improve their health, 66% reported only seeking a doctor when experiencing a health problem and 65% thought that a chatbot was a good idea.',\n",
              " 'interestingly, 30% reported dislike about talking to computers, 41% felt it would be strange to discuss health matters with a chatbot and about half were unsure if they could trust the advice given by a chatbot.',\n",
              " 'therefore, perceived trustworthiness, individual attitudes towards bots, and dislike for talking to computers are the main barriers to health chatbots.',\n",
              " 'politics\\nsee also: government by algorithm § ai politicians\\nin new zealand, the chatbot sam – short for semantic analysis machine[53] (made by nick gerritsen of touchtech[54]) – has been developed.',\n",
              " 'it is designed to share its political thoughts, for example on topics such as climate change, healthcare and education, etc.',\n",
              " 'it talks to people through facebook messenger.',\n",
              " '[55][56][57][58]\\n\\nin 2022, the chatbot \"leader lars\" or \"leder lars\" was nominated for the synthetic party to run in the danish parliamentary election,[59] and was built by the artist collective computer lars.',\n",
              " '[60] leader lars differed from earlier virtual politicians by leading a political party and by not pretending to be an objective candidate.',\n",
              " '[61] this chatbot engaged in critical discussions on politics with users from around the world.',\n",
              " '[62]\\n\\nin india, the state government has launched a chatbot for its aaple sarkar platform,[63] which provides conversational access to information regarding public services managed.',\n",
              " '[64][65]\\n\\ntoys\\nchatbots have also been incorporated into devices not primarily meant for computing, such as toys.',\n",
              " '[66]\\n\\nhello barbie is an internet-connected version of the doll that uses a chatbot provided by the company toytalk,[67] which previously used the chatbot for a range of smartphone-based characters for children.',\n",
              " \"[68] these characters' behaviors are constrained by a set of rules that in effect emulate a particular character and produce a storyline.\",\n",
              " \"[69]\\n\\nthe my friend cayla doll was marketed as a line of 18-inch (46 cm) dolls which uses speech recognition technology in conjunction with an android or ios mobile app to recognize the child's speech and have a conversation.\",\n",
              " \"it, like the hello barbie doll, attracted controversy due to vulnerabilities with the doll's bluetooth stack and its use of data collected from the child's speech.\",\n",
              " \"ibm's watson computer has been used as the basis for chatbot-based educational toys for companies such as cognitoys[66] intended to interact with children for educational purposes.\",\n",
              " '[70]\\n\\nmalicious use\\nmalicious chatbots are frequently used to fill chat rooms with spam and advertisements, by mimicking human behavior and conversations or to entice people into revealing personal information, such as bank account numbers.',\n",
              " 'they were commonly found on yahoo!',\n",
              " 'messenger, windows live messenger, aol instant messenger and other instant messaging protocols.',\n",
              " \"there has also been a published report of a chatbot used in a fake personal ad on a dating service's website.\",\n",
              " '[71]\\n\\ntay, an ai chatbot that learns from previous interaction, caused major controversy due to it being targeted by internet trolls on twitter.',\n",
              " 'the bot was exploited, and after 16 hours began to send extremely offensive tweets to users.',\n",
              " 'this suggests that although the bot learned effectively from experience, adequate protection was not put in place to prevent misuse.',\n",
              " '[72]\\n\\nif a text-sending algorithm can pass itself off as a human instead of a chatbot, its message would be more credible.',\n",
              " 'therefore, human-seeming chatbots with well-crafted online identities could start scattering fake news that seems plausible, for instance making false claims during an election.',\n",
              " 'with enough chatbots, it might be even possible to achieve artificial social proof.',\n",
              " '[73][74]\\n\\nlimitations of chatbots\\nthe creation and implementation of chatbots is still a developing area, heavily related to artificial intelligence and machine learning, so the provided solutions, while possessing obvious advantages, have some important limitations in terms of functionalities and use cases.',\n",
              " 'however, this is changing over time.',\n",
              " 'the most common limitations are listed below:[75]\\n\\nas the database, used for output generation, is fixed and limited, chatbots can fail while dealing with an unsaved query.',\n",
              " \"[44]\\na chatbot's efficiency highly depends on language processing and is limited because of irregularities, such as accents and mistakes.\",\n",
              " 'chatbots are unable to deal with multiple questions at the same time and so conversation opportunities are limited.',\n",
              " '[75]\\nchatbots require a large amount of conversational data to train.',\n",
              " 'generative models, which are based on deep learning algorithms to generate new responses word by word based on user input, are usually trained on a large dataset of natural-language phrases.',\n",
              " '[2]\\nchatbots have difficulty managing non-linear conversations that must go back and forth on a topic with a user.',\n",
              " '[76]\\nas it happens usually with technology-led changes in existing services, some consumers, more often than not from older generations, are uncomfortable with chatbots due to their limited understanding, making it obvious that their requests are being dealt with by machines.',\n",
              " '[75]\\nchatbots and jobs\\nchatbots are increasingly present in businesses and often are used to automate tasks that do not require skill-based talents.',\n",
              " 'with customer service taking place via messaging apps as well as phone calls, there are growing numbers of use-cases where chatbot deployment gives organizations a clear return on investment.',\n",
              " 'call center workers may be particularly at risk from ai-driven chatbots.',\n",
              " '[77]\\n\\nchatbot jobs\\n\\nchatbot developers create, debug, and maintain applications that automate customer services or other communication processes.',\n",
              " 'their duties include reviewing and simplifying code when needed.',\n",
              " 'they may also help companies implement bots in their operations.',\n",
              " 'a study by forrester (june 2017) predicted that 25% of all jobs would be impacted by ai technologies by 2019.',\n",
              " '[78]\\n\\nsee also\\nicon\\tlinguistics portal\\napplications of artificial intelligence\\nartificial philosophy\\nautonomous agent\\nchatgpt (from openai)\\nconversational user interface\\neugene goostman\\nfriendly artificial intelligence\\nhybrid intelligent system\\nintelligent agent\\ninternet bot\\nlist of chatbots\\nmulti-agent system\\nnatural language processing\\nsocial bot\\nsoftware agent\\nsoftware bot\\ntwitterbot\\nvirtual assistant\\nreferences\\n \"what is a chatbot?\".',\n",
              " 'techtarget.com.',\n",
              " 'retrieved 30 january 2017.\\n caldarini, guendalina; jaf, sardar; mcgarry, kenneth (2022).',\n",
              " '\"a literature survey of recent advances in chatbots\".',\n",
              " 'information.',\n",
              " 'mdpi.',\n",
              " '13 (1): 41. doi:10.3390/info13010041.',\n",
              " 'luka bradeško, dunja mladenić.',\n",
              " '\"a survey of chabot systems through a loebner prize competition\".',\n",
              " 's2cid 39745939.\\n mauldin 1994\\n \"2017 messenger bot landscape, a public spreadsheet gathering 1000+ messenger bots\".',\n",
              " '3 may 2017.',\n",
              " '(turing 1950)\\n (weizenbaum 1966, p. 36)\\n (weizenbaum 1966, pp.',\n",
              " '44–5)\\n güzelderefranchi 1995\\n computer history museum 2006\\n sondheim 1997\\n network working group 1973—transcript of a session between parry and eliza.',\n",
              " '(this is not the dialogue from the iccc, which took place october 24–26, 1972, whereas this session is from september 18, 1972.)',\n",
              " 'http://everything2.com/title/the+policeman%2527s+beard+is+half+constructed 13 november 1999\\n \"chatroboter simulieren menschen\".',\n",
              " '\"dbpedia chatbot\".',\n",
              " 'chat.dbpedia.org.',\n",
              " '\"meet the dbpedia chatbot | dbpedia\".',\n",
              " 'wiki.dbpedia.org.',\n",
              " '22 august 2018.',\n",
              " '\"meet the dbpedia chatbot\".',\n",
              " 'august 22, 2018.\\n beaver, laurie (july 2016).',\n",
              " 'the chatbots explainer.',\n",
              " 'bi intelligence.',\n",
              " '\"facebook messenger hits 100,000 bots\".',\n",
              " '2017-04-18. retrieved 2017-09-22.',\n",
              " '\"klm claims airline first with whatsapp business platform\".',\n",
              " 'www.phocuswire.com.',\n",
              " 'forbes staff (26 october 2017).',\n",
              " '\"aeroméxico te atenderá por whatsapp durante 2018\".',\n",
              " 'retrieved 2 july 2018.\\n redacción (27 october 2017).',\n",
              " '\"podrás hacer \\'check in\\' y consultar tu vuelo con aeroméxico a través de whatsapp\".',\n",
              " 'huffington post.',\n",
              " 'archived from the original on 10 march 2018. retrieved 2 july 2018.',\n",
              " '\"building for people, and now businesses\".',\n",
              " 'whatsapp.com.',\n",
              " 'retrieved 2 july 2018.',\n",
              " '\"she is the company\\'s most effective employee\".',\n",
              " 'nordea news.',\n",
              " '\"better believe the bot boom is blowing up big for b2b, b2c businesses\".',\n",
              " 'venturebeat.',\n",
              " '2016-07-24.',\n",
              " '\"the ai revolution is underway!',\n",
              " '– pm360\".',\n",
              " 'www.pm360online.com.',\n",
              " 'retrieved 2 july 2018.',\n",
              " '\"80% of businesses want chatbots by 2020\".',\n",
              " 'business insider.',\n",
              " 'retrieved 2 july 2018.',\n",
              " '\"a virtual travel agent with all the answers\".',\n",
              " 'the new york times.',\n",
              " '4 march 2008.',\n",
              " '\"chatbot vendor directory released –\".',\n",
              " 'www.hypergridbusiness.com.',\n",
              " '\"rare carat\\'s watson-powered chatbot will help you put a diamond ring on it\".',\n",
              " 'techcrunch.',\n",
              " 'february 15, 2017.',\n",
              " '\"10 ways you may have already used ibm watson\".',\n",
              " 'venturebeat.',\n",
              " 'march 10, 2017.\\n greenfield, rebecca (5 may 2016).',\n",
              " '\"chatbots are your newest, dumbest co-workers\".',\n",
              " 'bloomberg.com.',\n",
              " '\"facebook opens its messenger platform to chatbots\".',\n",
              " '12 april 2016.',\n",
              " '\"chatbot reference architecture\".',\n",
              " '1 january 2019.',\n",
              " '\"how chatbots are transforming wall street and main street banks?\".',\n",
              " '1 april 2019.',\n",
              " '\"how to manage customer service technology innovation\".',\n",
              " 'www.gartner.com.',\n",
              " 'archived from the original on december 11, 2019. retrieved 2020-01-02.',\n",
              " '\"chatbot interactions in retail to reach 22 billion by 2023, as ai offers compelling new engagement solutions\".',\n",
              " 'www.juniperresearch.com.',\n",
              " 'retrieved 2020-01-02.',\n",
              " '\"facebook launches messenger platform with chatbots\".',\n",
              " '1 april 2019.',\n",
              " '\"российский банк запустил чат-бота в facebook\".',\n",
              " '1 april 2019.',\n",
              " '\"absa launches \\'world-first\\' facebook messenger banking\".',\n",
              " '1 april 2019.',\n",
              " '\"the biggest french banks by total assets\".',\n",
              " 'banks around the world.',\n",
              " 'retrieved april 1, 2019.',\n",
              " '\"gagner du temps avec le chatbot bancaire pour gagner en intelligence avec les conseillers\".',\n",
              " 'marketing client.',\n",
              " 'retrieved april 1, 2019.',\n",
              " '\"meet 11 of the most interesting chatbots in banking\".',\n",
              " 'the financial brain.',\n",
              " '14 march 2018. retrieved april 1, 2019.',\n",
              " '\"chatbots: boon or bane?\".',\n",
              " 'bluelupin.',\n",
              " '9 january 2018. retrieved april 1, 2019.\\n larson, selena (october 11, 2016).',\n",
              " '\"baidu is bringing ai chatbots to healthcare\".',\n",
              " 'cnn money.',\n",
              " '\"ai chatbots have a future in healthcare, with caveats\".',\n",
              " 'ai in healthcare.',\n",
              " 'palanica, adam; flaschner, peter; thommandram, anirudh; li, michael; fossat, yan (january 3, 2019).',\n",
              " '\"physicians\\' perceptions of chatbots in health care: cross-sectional web-based survey\".',\n",
              " 'journal of medical internet research.',\n",
              " '21 (4): e12887.',\n",
              " 'doi:10.2196/12887.',\n",
              " 'pmc 6473203. pmid 30950796.\\n ahaskar, abhijit (2020-03-27).',\n",
              " '\"how whatsapp chatbots are helping in the fight against covid-19\".',\n",
              " 'mint.',\n",
              " 'retrieved 2020-07-23.',\n",
              " '\"india\\'s coronavirus chatbot on whatsapp crosses 1.7 crore users in 10 days\".',\n",
              " 'ndtv gadgets 360. retrieved 2020-07-23.\\n kurup, rajesh (21 march 2020).',\n",
              " '\"covid-19: govt of india launches a whatsapp chatbot\".',\n",
              " 'business line.',\n",
              " 'retrieved 2020-07-23.',\n",
              " '\"in focus: mumbai-based haptik which developed india\\'s official whatsapp chatbot for covid-19\".',\n",
              " 'hindustan times.',\n",
              " '7 april 2020. retrieved 2020-07-23.\\n nadarzynski, tom; miles, oliver; cowie, aimee; ridge, damien (january 1, 2019).',\n",
              " '\"acceptability of artificial intelligence (ai)-led chatbot services in healthcare: a mixed-methods study\".',\n",
              " 'digital health.',\n",
              " '5: 2055207619871808. doi:10.1177/2055207619871808.',\n",
              " 'pmc 6704417. pmid 31467682.',\n",
              " '\"sam, the virtual politician\".',\n",
              " 'tuia innovation.',\n",
              " 'wellington, victoria university of (december 15, 2017).',\n",
              " '\"meet the world\\'s first virtual politician\".',\n",
              " 'victoria university of wellington.',\n",
              " 'wagner, meg (23 november 2017).',\n",
              " '\"this virtual politician wants to run for office\".',\n",
              " 'cnn.',\n",
              " '\"talk with the first-ever robot politician on facebook messenger\".',\n",
              " 'engadget.',\n",
              " 'prakash, abishur (august 8, 2018).',\n",
              " '\"ai-politicians: a revolution in politics\".',\n",
              " 'medium.',\n",
              " 'sam website\\n sternberg, sarah (20 june 2022).',\n",
              " '\"danskere vil ind på den politiske scene med kunstig intelligens\" [danes want to enter the political scene with artificial intelligence].',\n",
              " 'jyllands-posten.',\n",
              " 'retrieved 2022-06-20.\\n diwakar, amar (2022-08-22).',\n",
              " '\"can an ai-led danish party usher in an age of algorithmic politics?\".',\n",
              " 'trt world.',\n",
              " 'retrieved 2022-08-22.\\n xiang, chloe (13 october 2022).',\n",
              " '\"this danish political party is led by an ai\".',\n",
              " 'vice: motherboard.',\n",
              " 'retrieved 2022-10-13.\\n hearing, alice (14 october 2022).',\n",
              " '\"a.i.',\n",
              " 'chatbot is leading a danish political party and setting its policies.',\n",
              " 'now users are grilling it for its stance on political landmines\".',\n",
              " 'fortune.',\n",
              " '\"maharashtra government launches aaple sarkar chatbot to provide info on 1,400 public services\".',\n",
              " 'cnbc tv18.',\n",
              " '5 march 2019. retrieved 2020-07-23.',\n",
              " '\"government of maharashtra launches aaple sarkar chatbot with haptik\".',\n",
              " 'the economic times.',\n",
              " 'retrieved 2020-07-23.\\n aggarwal, varun (5 march 2019).',\n",
              " '\"maharashtra launches aaple sarkar chatbot\".',\n",
              " 'business line.',\n",
              " 'retrieved 2020-07-23.\\n amy (2015-02-23).',\n",
              " '\"conversational toys – the latest trend in speech technology\".',\n",
              " 'virtual agent chat.',\n",
              " 'archived from the original on 2018-02-21. retrieved 2016-08-11.\\n nagy, evie (13 february 2015).',\n",
              " '\"using toy-talk technology, new hello barbie will have real conversations with kids\".',\n",
              " 'fast company.',\n",
              " 'retrieved 18 march 2015.\\n oren jacob, the co-founder and ceo of toytalk interviewed on the tv show triangulation on the twit.tv network\\n \"artificial intelligence script tool\".',\n",
              " 'takahashi, dean (23 february 2015).',\n",
              " '\"elemental\\'s smart connected toy taps ibm\\'s watson supercomputer for its brains\".',\n",
              " 'venture beat.',\n",
              " 'retrieved 15 may 2015.',\n",
              " '\"from russia with love\" (pdf).',\n",
              " 'retrieved 2007-12-09. psychologist and scientific american: mind contributing editor robert epstein reports how he was initially fooled by a chatterbot posing as an attractive girl in a personal ad he answered on a dating website.',\n",
              " 'in the ad, the girl portrayed herself as being in southern california and then soon revealed, in poor english, that she was actually in russia.',\n",
              " 'he became suspicious after a couple of months of email exchanges, sent her an email test of gibberish, and she still replied in general terms.',\n",
              " 'the dating website is not named.',\n",
              " 'scientific american: mind, october–november 2007, page 16–17, \"from russia with love: how i got fooled (and somewhat humiliated) by a computer\".',\n",
              " 'also available online.',\n",
              " 'bird, jordan j.; ekart, aniko; faria, diego r. (june 2018).',\n",
              " 'learning from interaction: an intelligent networked-based human-bot and bot-bot chatbot system in: advances in computational intelligence systems (1st ed.).',\n",
              " 'nottingham, uk: springer.',\n",
              " 'pp.',\n",
              " '179–190.',\n",
              " 'doi:10.1007/978-3-319-97982-3_15.',\n",
              " 'isbn 978-3-319-97982-3. s2cid 52069140.',\n",
              " '\"fake news\".',\n",
              " '20 november 2018. retrieved 2018-11-20.',\n",
              " '\"malicious uses\".',\n",
              " 'retrieved 2016-05-11.',\n",
              " '\"meet 11 of the most interesting chatbots in banking\".',\n",
              " '14 march 2018. retrieved 2019-04-01.\\n grudin, jonathan; jacques, richard (2019), \"chatbots, humbots, and the quest for artificial general intelligence\", proceedings of the 2019 chi conference on human factors in computing systems – chi \\'19, acm chi 2020, pp.',\n",
              " '209–219, doi:10.1145/3290605.3300439, isbn 978-1-4503-5970-2, s2cid 140274744\\n \"how talking machines are taking call center jobs\".',\n",
              " 'bbc news.',\n",
              " '23 august 2018. retrieved 2019-04-01.',\n",
              " '\"how chatbots are killing jobs (and creating new ones)\".',\n",
              " 'june 2017. retrieved 2019-04-01.\\nbibliography\\ncomputer history museum (2006), \"internet history—1970\\'s\", exhibits, computer history museum, archived from the original on 2008-02-21, retrieved 2008-03-05\\ngüzeldere, güven; franchi, stefano (1995-07-24), \"constructions of the mind\", stanford humanities review, sehr, stanford university, 4 (2), retrieved 2008-03-05\\nmauldin, michael (1994), \"chatterbots, tinymuds, and the turing test: entering the loebner prize competition\", proceedings of the eleventh national conference on artificial intelligence, aaai press, retrieved 2008-03-05 (abstract)\\nnetwork working group (1973), \"rfc 439, parry encounters the doctor\", internet engineering task force, internet society, doi:10.17487/rfc0439, retrieved 2008-03-05\\nsondheim, alan j (1997), <nettime> important documents from the early internet (1972), nettime.org, archived from the original on 2008-06-13, retrieved 2008-03-05\\nturing, alan (1950), \"computing machinery and intelligence\", mind, 59 (236): 433–60, doi:10.1093/mind/lix.236.433\\nweizenbaum, joseph (january 1966), \"eliza—a computer program for the study of natural language communication between man and machine\", communications of the acm, 9 (1): 36–45, doi:10.1145/365153.365168, s2cid 1896290\\nfurther reading\\nsearle, john (1980), \"minds, brains and programs\", behavioral and brain sciences, 3 (3): 417–457, doi:10.1017/s0140525x00005756, s2cid 55303721\\nshevat, amir (2017).',\n",
              " 'designing bots: creating conversational experiences (first ed.).',\n",
              " \"sebastopol, ca: o'reilly media.\",\n",
              " 'isbn 978-1-4919-7482-7. oclc 962125282.\\nexternal links\\n media related to chatbots at wikimedia commons\\n conversational bots at wikibooks\\nvte\\nnatural language processing\\nportal:\\nicon language\\nauthority control: national libraries edit this at wikidata\\t\\ngermanyczech republic\\ncategories: chatbotsinstant messaginginteractive narrativenatural language parsing\\nnavigation menu\\nnot logged in\\ntalk\\ncontributions\\ncreate account\\nlog in\\narticletalk\\nreadeditview history\\nsearch wikipedia\\nmain page\\ncontents\\ncurrent events\\nrandom article\\nabout wikipedia\\ncontact us\\ndonate\\ncontribute\\nhelp\\nlearn to edit\\ncommunity portal\\nrecent changes\\nupload file\\ntools\\nwhat links here\\nrelated changes\\nspecial pages\\npermanent link\\npage information\\ncite this page\\nwikidata item\\nprint/export\\ndownload as pdf\\nprintable version\\nin other projects\\nwikimedia commons\\nwikibooks\\n\\nlanguages\\nafrikaans\\nالعربية\\ndeutsch\\nespañol\\nfrançais\\nbahasa indonesia\\nportuguês\\nрусский\\n中文\\n32 more\\nedit links\\nthis page was last edited on 13 january 2023, at 20:20 (utc).',\n",
              " 'text is available under the creative commons attribution-sharealike license 3.0; additional terms may apply.',\n",
              " 'by using this site, you agree to the terms of use and privacy policy.',\n",
              " 'wikipedia® is a registered trademark of the wikimedia foundation, inc., a non-profit organization.',\n",
              " 'privacy policyabout wikipediadisclaimerscontact wikipediamobile viewdevelopersstatisticscookie statementwikimedia foundationpowered by mediawiki']"
            ]
          },
          "metadata": {},
          "execution_count": 10
        }
      ]
    },
    {
      "cell_type": "markdown",
      "metadata": {
        "id": "iYWPNkqjKvXa"
      },
      "source": [
        "## Preprocessing\n",
        "\n",
        "We shall now define a function called LemTokens which will take as input the tokens and return normalized tokens."
      ]
    },
    {
      "cell_type": "code",
      "metadata": {
        "id": "9OnKw1QQKvXb"
      },
      "source": [
        "lemmer = WordNetLemmatizer()\n",
        "#WordNet is a semantically-oriented dictionary of English included in NLTK.\n",
        "def LemTokens(tokens):\n",
        "    return [lemmer.lemmatize(token) for token in tokens]\n",
        "remove_punct_dict = dict((ord(punct), None) for punct in string.punctuation) #Looking for puntuation marks\n",
        "\n",
        "def LemNormalize(text):\n",
        "    return LemTokens(nltk.word_tokenize(text.lower().translate(remove_punct_dict))) #Removing the punctuation marks"
      ],
      "execution_count": null,
      "outputs": []
    },
    {
      "cell_type": "markdown",
      "metadata": {
        "id": "1cMGjW5eKvXh"
      },
      "source": [
        "## Keyword matching\n",
        "\n",
        "Next, we shall define a function for a greeting by the bot i.e if a user’s input is a greeting, the bot shall return a greeting response.ELIZA uses a simple keyword matching for greetings. We will utilize the same concept here."
      ]
    },
    {
      "cell_type": "code",
      "metadata": {
        "id": "h4MchcWHKvXi"
      },
      "source": [
        "GREETING_INPUTS = (\"hello\", \"hi\", \"greetings\", \"sup\", \"what's up\",\"hey\",)\n",
        "GREETING_RESPONSES = [\"hi\", \"hey\", \"*nods*\", \"hi there\", \"hello\", \"I am glad! You are talking to me\"]\n",
        "def greeting(sentence):\n",
        " \n",
        "    for word in sentence.split():  #split sentence\n",
        "        if word.lower() in GREETING_INPUTS:   #get greeting inputs\n",
        "            return random.choice(GREETING_RESPONSES)  #get greeting responses\n",
        "        "
      ],
      "execution_count": null,
      "outputs": []
    },
    {
      "cell_type": "markdown",
      "metadata": {
        "id": "E5s2xQt9KvXq"
      },
      "source": [
        "## Generating Response\n",
        "\n",
        "### Bag of Words\n",
        "After the initial preprocessing phase, we need to transform text into a meaningful vector (or array) of numbers. The bag-of-words is a representation of text that describes the occurrence of words within a document. It involves two things:\n",
        "\n",
        "* A vocabulary of known words.\n",
        "\n",
        "* A measure of the presence of known words.\n",
        "\n",
        "Why is it is called a “bag” of words? That is because any information about the order or structure of words in the document is discarded and the model is only **concerned with whether the known words occur in the document, not where they occur in the document.**\n",
        "\n",
        "The intuition behind the Bag of Words is that documents are similar if they have similar content. Also, we can learn something about the meaning of the document from its content alone.\n",
        "\n",
        "For example, if our dictionary contains the words {Learning, is, the, not, great}, and we want to vectorize the text “Learning is great”, we would have the following vector: (1, 1, 0, 0, 1).\n",
        "\n",
        "\n",
        "### TF-IDF Approach\n",
        "A problem with the Bag of Words approach is that highly frequent words start to dominate in the document (e.g. larger score), but may not contain as much “informational content”. Also, it will give more weight to longer documents than shorter documents.\n",
        "\n",
        "One approach is to rescale the frequency of words by how often they appear in all documents so that the scores for frequent words like “the” that are also frequent across all documents are penalized. This approach to scoring is called Term Frequency-Inverse Document Frequency, or TF-IDF for short, where:\n",
        "\n",
        "**Term Frequency: is a scoring of the frequency of the word in the current document.**\n",
        "\n",
        "```\n",
        "TF = (Number of times term t appears in a document)/(Number of terms in the document)\n",
        "```\n",
        "\n",
        "**Inverse Document Frequency: is a scoring of how rare the word is across documents.**\n",
        "\n",
        "```\n",
        "IDF = 1+log(N/n), where, N is the number of documents and n is the number of documents a term t has appeared in.\n",
        "```\n",
        "### Cosine Similarity\n",
        "\n",
        "Tf-idf weight is a weight often used in information retrieval and text mining. This weight is a statistical measure used to evaluate how important a word is to a document in a collection or corpus\n",
        "\n",
        "```\n",
        "Cosine Similarity (d1, d2) =  Dot product(d1, d2) / ||d1|| * ||d2||\n",
        "```\n",
        "where d1,d2 are two non zero vectors.\n",
        "\n"
      ]
    },
    {
      "cell_type": "markdown",
      "metadata": {
        "id": "wVj3j4L2KvXr"
      },
      "source": [
        "To generate a response from our bot for input questions, the concept of document similarity will be used. We define a function response which searches the user’s utterance for one or more known keywords and returns one of several possible responses. If it doesn’t find the input matching any of the keywords, it returns a response:” I am sorry! I don’t understand you”"
      ]
    },
    {
      "cell_type": "code",
      "metadata": {
        "id": "9EFlU19DKvXt"
      },
      "source": [
        "def response(user_response):\n",
        "    robo_response=''\n",
        "    sent_tokens.append(user_response)\n",
        "    TfidfVec = TfidfVectorizer(tokenizer=LemNormalize, stop_words='english')\n",
        "    tfidf = TfidfVec.fit_transform(sent_tokens)\n",
        "    vals = cosine_similarity(tfidf[-1], tfidf)\n",
        "    idx=vals.argsort()[0][-2]\n",
        "    flat = vals.flatten()\n",
        "    flat.sort()   #sort flat\n",
        "    req_tfidf = flat[-2]\n",
        "    \n",
        "    if(req_tfidf==0):\n",
        "        robo_response=robo_response+\"I am sorry! I don't understand you\"\n",
        "        return robo_response\n",
        "    else:\n",
        "        robo_response = robo_response+sent_tokens[idx]\n",
        "        return robo_response\n",
        "\n"
      ],
      "execution_count": null,
      "outputs": []
    },
    {
      "cell_type": "markdown",
      "metadata": {
        "id": "hdYVNkltKvXz"
      },
      "source": [
        "Finally, we will feed the lines that we want our bot to say while starting and ending a conversation depending upon user’s input."
      ]
    },
    {
      "cell_type": "code",
      "metadata": {
        "id": "ZVcXxv1xKvX1",
        "colab": {
          "base_uri": "https://localhost:8080/",
          "height": 288
        },
        "outputId": "c62fc29c-c319-41a6-d99d-0ffe49fc70e0"
      },
      "source": [
        "flag=\"\"\"Code here\"\"\"\n",
        "print(\"ROBO: My name is Robo. I will answer your queries about Chatbots. If you want to exit, type Bye!\")\n",
        "while(flag==True):\n",
        "    user_response = input()\n",
        "    user_response=user_response.lower()\n",
        "    if(user_response!='bye'):\n",
        "        if(user_response=='thanks' or user_response=='thank you' ):\n",
        "            flag=False   \n",
        "            print(\"ROBO: You are welcome..\")\n",
        "        else:\n",
        "            if(greeting(user_response)!=None):\n",
        "                print(\"ROBO: \"+greeting(user_response))\n",
        "            else:\n",
        "                print(\"ROBO: \")\n",
        "                print(response(user_response))\n",
        "                sent_tokens.remove(user_response)\n",
        "    else:\n",
        "        flag=False\n",
        "        print(\"ROBO: Bye! take care..\") "
      ],
      "execution_count": null,
      "outputs": [
        {
          "output_type": "stream",
          "text": [
            "ROBO: My name is Robo. I will answer your queries about Chatbots. If you want to exit, type Bye!\n",
            "Hi\n",
            "ROBO: hi there\n",
            "What's deep learning\n",
            "ROBO: \n",
            "deep learning (also known as deep structured learning) is part of a broader family of machine learning methods based on artificial neural networks with representation learning.\n",
            "what's ANN\n",
            "ROBO: \n",
            "a deep neural network (dnn) is an artificial neural network (ann) with multiple layers between the input and output layers.\n",
            "machine learning\n",
            "ROBO: \n",
            "deep learning, a subset of machine learning, utilizes a hierarchical level of artificial neural networks to carry out the process of machine learning.\n",
            "Bye\n",
            "ROBO: Bye! take care..\n"
          ],
          "name": "stdout"
        }
      ]
    },
    {
      "cell_type": "code",
      "metadata": {
        "id": "UXPOU5IyRtI4",
        "colab": {
          "base_uri": "https://localhost:8080/"
        },
        "outputId": "d8b852f3-2a17-4388-97b1-f920bd4472f4"
      },
      "source": [
        "flag= True\n",
        "print(\"ROBO: My name is Robo. I will answer your queries about Chatbots. If you want to exit, type Bye!\")\n",
        "while(flag==True):\n",
        "    user_response = input()\n",
        "    user_response=user_response.lower()\n",
        "    if(user_response!='bye'):\n",
        "        if(user_response=='thanks' or user_response=='thank you' ):\n",
        "            flag=False   \n",
        "            print(\"ROBO: You are welcome..\")\n",
        "        else:\n",
        "            if(greeting(user_response)!=None):\n",
        "                print(\"ROBO: \"+greeting(user_response))\n",
        "            else:\n",
        "                print(\"ROBO: \")\n",
        "                print(response(user_response))\n",
        "                sent_tokens.remove(user_response)\n",
        "    else:\n",
        "        flag=False\n",
        "        print(\"ROBO: Bye! take care..\") "
      ],
      "execution_count": null,
      "outputs": [
        {
          "output_type": "stream",
          "name": "stdout",
          "text": [
            "ROBO: My name is Robo. I will answer your queries about Chatbots. If you want to exit, type Bye!\n",
            "Hi\n",
            "ROBO: hey\n",
            "What's deep learning\n",
            "ROBO: \n",
            "[34] these intelligent chatbots make use of all kinds of artificial intelligence like image moderation and natural-language understanding (nlu), natural-language generation (nlg), machine learning and deep learning.\n",
            "Explain more\n",
            "ROBO: \n",
            "I am sorry! I don't understand you\n",
            "i want to ask you a question\n",
            "ROBO: \n",
            "\"80% of businesses want chatbots by 2020\".\n",
            "You didn't answer properly\n",
            "ROBO: \n",
            "\"a virtual travel agent with all the answers\".\n",
            "Travel agent?\n",
            "ROBO: \n",
            "\"a virtual travel agent with all the answers\".\n",
            "That's good\n",
            "ROBO: \n",
            "while 80% were curious about new technologies that could improve their health, 66% reported only seeking a doctor when experiencing a health problem and 65% thought that a chatbot was a good idea.\n",
            "lol\n",
            "ROBO: \n",
            "I am sorry! I don't understand you\n",
            "okay\n",
            "ROBO: \n",
            "I am sorry! I don't understand you\n",
            "bye\n",
            "ROBO: Bye! take care..\n"
          ]
        }
      ]
    },
    {
      "cell_type": "code",
      "source": [],
      "metadata": {
        "id": "HS32h11Cl2Vu"
      },
      "execution_count": null,
      "outputs": []
    }
  ]
}